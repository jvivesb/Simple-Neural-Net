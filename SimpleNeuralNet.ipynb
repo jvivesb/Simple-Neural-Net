{
 "cells": [
  {
   "cell_type": "markdown",
   "metadata": {},
   "source": [
    "# Neural Net Homework 6 - CS 189\n",
    "\n",
    "1. The goal is to implement a 2 layer fully connected Neural Net\n",
    "2. The data set consists of 124,800 iamges and the test split of 20,800 images. "
   ]
  },
  {
   "cell_type": "markdown",
   "metadata": {},
   "source": [
    "### Letters Dataset"
   ]
  },
  {
   "cell_type": "code",
   "execution_count": 5,
   "metadata": {
    "collapsed": true
   },
   "outputs": [],
   "source": [
    "## data prep\n",
    "DIRECTORY = \"/Users/Jaume/Desktop/SPRING 2017/CS189/HW6/hw6_data_dist/letters_data.mat\"\n",
    "data = sio.loadmat(DIRECTORY)"
   ]
  },
  {
   "cell_type": "code",
   "execution_count": 6,
   "metadata": {
    "collapsed": false
   },
   "outputs": [],
   "source": [
    "data_test = data['test_x']\n",
    "data_train = data['train_x']\n",
    "labels = data['train_y']"
   ]
  },
  {
   "cell_type": "code",
   "execution_count": 7,
   "metadata": {
    "collapsed": false
   },
   "outputs": [],
   "source": [
    "# shuffle the data\n",
    "training_data = np.concatenate([data_train, labels], axis=1)\n",
    "np.random.shuffle(training_data)"
   ]
  },
  {
   "cell_type": "code",
   "execution_count": 8,
   "metadata": {
    "collapsed": false
   },
   "outputs": [
    {
     "name": "stderr",
     "output_type": "stream",
     "text": [
      "/Users/Jaume/anaconda3/lib/python3.5/site-packages/sklearn/utils/validation.py:429: DataConversionWarning: Data with input dtype uint8 was converted to float64 by StandardScaler.\n",
      "  warnings.warn(msg, _DataConversionWarning)\n"
     ]
    }
   ],
   "source": [
    "# split train and validation sets, 20% is 24960\n",
    "scaler = pre.StandardScaler()\n",
    "\n",
    "train_data = training_data[24960:, :]\n",
    "\n",
    "y_train = np.array(train_data[:,-1])\n",
    "X_train = scaler.fit_transform(train_data[:, 0:-1])\n",
    "\n",
    "validation_data = training_data[0:24960, :]\n",
    "\n",
    "y_validation = validation_data[:,-1]\n",
    "X_validation = scaler.transform(validation_data[:, 0:-1])\n",
    "\n",
    "y_train = y_train.ravel()\n",
    "\n",
    "X_test = scaler.fit_transform(data_test)"
   ]
  },
  {
   "cell_type": "code",
   "execution_count": 9,
   "metadata": {
    "collapsed": false
   },
   "outputs": [],
   "source": [
    "# onehot encode the labels\n",
    "values = y_train\n",
    "n_values = np.max(values) \n",
    "y_t=np.eye(n_values)[values-1]"
   ]
  },
  {
   "cell_type": "code",
   "execution_count": 10,
   "metadata": {
    "collapsed": false
   },
   "outputs": [],
   "source": [
    "# prevent saturation\n",
    "#y_t[y_t == 0.] = 0.15\n",
    "#y_t[y_t == 1.] = 0.85"
   ]
  },
  {
   "cell_type": "code",
   "execution_count": 12,
   "metadata": {
    "collapsed": false
   },
   "outputs": [
    {
     "data": {
      "text/plain": [
       "((99840, 784), (99840,), (24960, 784), (24960,), (20800, 784))"
      ]
     },
     "execution_count": 12,
     "metadata": {},
     "output_type": "execute_result"
    }
   ],
   "source": [
    "X_train.shape, y_train.shape, X_validation.shape, y_validation.shape, X_test.shape"
   ]
  },
  {
   "cell_type": "markdown",
   "metadata": {},
   "source": [
    "### Problem 1: Derivations\n"
   ]
  },
  {
   "cell_type": "code",
   "execution_count": 13,
   "metadata": {
    "collapsed": true
   },
   "outputs": [],
   "source": [
    "import numpy as np \n",
    "import pandas as pd \n",
    "import scipy.io as sio\n",
    "import sklearn.preprocessing as pre\n",
    "import matplotlib.pyplot as plt\n",
    "from time import time"
   ]
  },
  {
   "cell_type": "code",
   "execution_count": 14,
   "metadata": {
    "collapsed": true
   },
   "outputs": [],
   "source": [
    "# supporting functions\n",
    "\n",
    "# Returns the matrix X with a bias column added (1s)\n",
    "def add_bias(X):\n",
    "    #print(X.shape, np.array([X]).T.shape, np.ones(X.shape[0]).shape)\n",
    "    new_X = np.append(X,np.ones(X.shape[0]).reshape(X.shape[0],1), axis=1)\n",
    "    return new_X\n",
    "\n",
    "def decr_eps(eps,n):\n",
    "    return float(eps)/float(n)\n",
    "\n",
    "def test(predicted, true):\n",
    "    return float(np.sum(np.isclose(predicted, true))) / float(predicted.shape[0])"
   ]
  },
  {
   "cell_type": "code",
   "execution_count": 25,
   "metadata": {
    "collapsed": false
   },
   "outputs": [],
   "source": [
    "# Building the Neural Net Class\n",
    "\n",
    "class NN(object):\n",
    "    def __init__(self):        \n",
    "        self.inputSize = 784\n",
    "        self.outputSize = 26\n",
    "        self.hiddenSize = 800\n",
    "        \n",
    "###############\n",
    "    \n",
    "    def logistic(self, s):\n",
    "        return 1.0/(1.0+np.exp(-s))\n",
    "    \n",
    "    def forward_pass(self, x):\n",
    "        self.a = np.dot(self.V, x)\n",
    "        #print('a: ', self.a.shape)\n",
    "        self.b = np.tanh(self.a).T #*0.5\n",
    "        #print('b: ', self.b.shape)\n",
    "        self.b_2 = add_bias(self.b).T #np.append(self.b, 1)\n",
    "        #print('b_2: ', self.b_2.shape)\n",
    "        self.c = np.dot(self.W, self.b_2)\n",
    "        #print(self.c.shape)\n",
    "        #print('c: ',self.c)\n",
    "        #print('logistic c: ', self.logistic(self.c))\n",
    "        return self.logistic(self.c)\n",
    "    \n",
    "    def logisticLoss(self,z,y):\n",
    "        loss = 0\n",
    "        #print(\"predicted - true: \", z, y)\n",
    "        #print(z.shape, y.shape)\n",
    "        for i in range(z.shape[0]):\n",
    "            y_i = y[i]\n",
    "            z_i = z[i]\n",
    "            l = y_i*np.log(z_i) + (1.0 - y_i)*np.log(1.0 - z_i)\n",
    "            loss += l\n",
    "        return -loss\n",
    "    \n",
    "    def BGD(self, X, y, k, eps, lmb):\n",
    "        idx = np.random.randint(X.shape[0], size = k)\n",
    "        X_i = X[idx, :].T\n",
    "        y_i = y[idx].T\n",
    "        \n",
    "        self.predicted = self.forward_pass(X_i)\n",
    "        \n",
    "        diff = self.predicted - y_i\n",
    "        #print('diff: ', diff.shape)\n",
    "        #print('b_2: ', self.b)\n",
    "        LW = diff @ self.b_2.T + 2*lmb*np.linalg.norm(self.W)\n",
    "        d = np.dot(self.W.T, diff)[:-1]\n",
    "        #print('d: ', d.shape)\n",
    "        e = 1.0 - np.tanh(self.a)**2\n",
    "        #print('e: ', e.shape)\n",
    "        n = np.multiply(d,e)\n",
    "        #print(X_i.shape)\n",
    "        LV = np.dot(X_i,n.T).T + 2*lmb*np.linalg.norm(self.V)\n",
    "        #LV = np.dot(X_i.reshape(X_i.shape[0], 1), n.reshape(n.shape[0], 1).T).T + 2*lmb*np.linalg.norm(self.V)\n",
    "\n",
    "        self.V = self.V - eps*LV\n",
    "        self.W = self.W - eps*LW\n",
    "        \n",
    "        return self.logisticLoss(self.predicted, y_i)        \n",
    "\n",
    "    def SGD(self, X, y, eps, lmb):\n",
    "        # random sample from training set\n",
    "        idx = np.random.randint(0, X.shape[0])\n",
    "        X_i = X[idx, :]\n",
    "        y_i = y[idx]\n",
    "        \n",
    "        self.predicted = self.forward_pass(X_i)\n",
    "        \n",
    "        diff = self.predicted - y_i\n",
    "        LW = diff.reshape(diff.shape[0],1) @ self.b_2.reshape(self.b_2.shape[0], 1).T + 2*lmb*np.linalg.norm(self.W)\n",
    "        d = np.dot(self.W.T, diff)[:-1]\n",
    "        e = 1.0 - np.tanh(self.a)**2\n",
    "        n = np.multiply(d,e)\n",
    "        LV = np.dot(X_i.reshape(X_i.shape[0], 1), n.reshape(n.shape[0], 1).T).T + 2*lmb*np.linalg.norm(self.V)\n",
    "\n",
    "        self.V = self.V - eps*LV\n",
    "        self.W = self.W - eps*LW\n",
    "        \n",
    "        return self.logisticLoss(self.predicted, y_i)\n",
    "\n",
    "    def back_prop(self, X, y, params):\n",
    "\n",
    "        iterations = 1\n",
    "        k = params[3]\n",
    "        eps = params[0]\n",
    "        iters = params[1]/k\n",
    "        lmb = params[2]\n",
    "        X = add_bias(X)\n",
    "        \n",
    "        loss = []\n",
    "        l5 = []\n",
    "        acc = 0\n",
    "        while True:\n",
    "            # stopping criteria:\n",
    "            if iterations == iters:\n",
    "                break\n",
    "            l = self.BGD(X, y, k, eps, lmb)\n",
    "            # loss\n",
    "            l5.append(l)\n",
    "            # print iteration count:\n",
    "            if iterations%(10000/k) ==0:\n",
    "                loss.append(np.mean(l5))\n",
    "                print('iteration number: ', iterations*k, 'of ', iters*k)\n",
    "                l5 = []\n",
    "                pred = self.predict(add_bias(X_validation))\n",
    "                t = test(pred, y_validation)\n",
    "                print('Accuracy: ', t)\n",
    "                if (t <= acc):\n",
    "                    break\n",
    "                acc = t\n",
    "            iterations += 1\n",
    "        \n",
    "        return loss\n",
    "    \n",
    "    def train(self, X, y, params):\n",
    "        \n",
    "        t0 = time()\n",
    "        #Initialize Weights\n",
    "        self.V = 0.1*np.random.randn(self.hiddenSize, self.inputSize + 1)\n",
    "        self.W = 0.1*np.random.randn(self.outputSize, self.hiddenSize + 1)\n",
    "        loss = self.back_prop(X,y, params)\n",
    "        return loss\n",
    "\n",
    "    def predict(self, X):\n",
    "        a = np.dot(X, self.V.T)\n",
    "        #print('a = ', a.shape)\n",
    "        b = np.tanh(a)\n",
    "        #print('b = ', b.shape)\n",
    "        b_2 = add_bias(b)\n",
    "        #print('b_2 = ', b_2)\n",
    "        c = np.dot(self.W, b_2.T)\n",
    "        #print(self.c.shape)\n",
    "        preds = self.logistic(c).T\n",
    "        #print(preds[0].shape)\n",
    "        pred_nums = np.array([np.argmax(smpl)+1 for smpl in preds])\n",
    "        return pred_nums\n",
    "        "
   ]
  },
  {
   "cell_type": "code",
   "execution_count": 26,
   "metadata": {
    "collapsed": false
   },
   "outputs": [
    {
     "name": "stdout",
     "output_type": "stream",
     "text": [
      "iteration number:  10000 of  500000.0\n",
      "Accuracy:  0.602323717948718\n",
      "iteration number:  20000 of  500000.0\n",
      "Accuracy:  0.6673477564102565\n",
      "iteration number:  30000 of  500000.0\n",
      "Accuracy:  0.6915064102564102\n",
      "iteration number:  40000 of  500000.0\n",
      "Accuracy:  0.7145833333333333\n",
      "iteration number:  50000 of  500000.0\n",
      "Accuracy:  0.7312099358974359\n",
      "iteration number:  60000 of  500000.0\n",
      "Accuracy:  0.7434294871794872\n",
      "iteration number:  70000 of  500000.0\n",
      "Accuracy:  0.75\n",
      "iteration number:  80000 of  500000.0\n",
      "Accuracy:  0.7565705128205128\n",
      "iteration number:  90000 of  500000.0\n",
      "Accuracy:  0.7618589743589743\n",
      "iteration number:  100000 of  500000.0\n",
      "Accuracy:  0.7743990384615385\n",
      "iteration number:  110000 of  500000.0\n",
      "Accuracy:  0.7816506410256411\n",
      "iteration number:  120000 of  500000.0\n",
      "Accuracy:  0.7824919871794872\n",
      "iteration number:  130000 of  500000.0\n",
      "Accuracy:  0.7889022435897436\n",
      "iteration number:  140000 of  500000.0\n",
      "Accuracy:  0.7957932692307692\n",
      "iteration number:  150000 of  500000.0\n",
      "Accuracy:  0.7970352564102564\n",
      "iteration number:  160000 of  500000.0\n",
      "Accuracy:  0.8006810897435898\n",
      "iteration number:  170000 of  500000.0\n",
      "Accuracy:  0.8082932692307693\n",
      "iteration number:  180000 of  500000.0\n",
      "Accuracy:  0.8046474358974359\n"
     ]
    }
   ],
   "source": [
    "# hypertuning learning rate\n",
    "net2 = NN()\n",
    "#eps = np.logspace(-6,1, 20)\n",
    "#for ep in eps:\n",
    "#    net.train(X_train, y_t, [ep, 500])\n",
    "#    net.predict(add_bias(X_validation))\n",
    "loss2 = net2.train(X_train, y_t, [0.001, 500000, 0.0, 50])"
   ]
  },
  {
   "cell_type": "code",
   "execution_count": 27,
   "metadata": {
    "collapsed": false
   },
   "outputs": [
    {
     "name": "stdout",
     "output_type": "stream",
     "text": [
      "[25 25 10 ..., 26  6 13]\n",
      "[25 25 10 ..., 23  6 13]\n",
      "0.8046474358974359 0.8525741185897436\n"
     ]
    }
   ],
   "source": [
    "val_pred2 = net2.predict(add_bias(X_validation))\n",
    "train_pred2 = net2.predict(add_bias(X_train))\n",
    "print(y_validation)\n",
    "print(val_pred2)\n",
    "print(test(val_pred2, y_validation), test(train_pred2, y_train))"
   ]
  },
  {
   "cell_type": "markdown",
   "metadata": {},
   "source": [
    "# Average Loss Every 1000 iterations"
   ]
  },
  {
   "cell_type": "code",
   "execution_count": 24,
   "metadata": {
    "collapsed": false
   },
   "outputs": [
    {
     "data": {
      "image/png": "[encoded data removed]",
      "text/plain": [
       "<matplotlib.figure.Figure at 0x10669d0f0>"
      ]
     },
     "metadata": {},
     "output_type": "display_data"
    }
   ],
   "source": [
    "plt.plot(loss2)\n",
    "plt.xlabel('25000 iterations')\n",
    "plt.ylabel('Average Logistic Loss')\n",
    "plt.title('Logistic Loss Averaged Every 25000 Iterations')\n",
    "plt.show()"
   ]
  },
  {
   "cell_type": "markdown",
   "metadata": {},
   "source": [
    "### Prediction Results"
   ]
  },
  {
   "cell_type": "code",
   "execution_count": 203,
   "metadata": {
    "collapsed": false
   },
   "outputs": [],
   "source": [
    "pred = net.predict(add_bias(X_train))"
   ]
  },
  {
   "cell_type": "code",
   "execution_count": 204,
   "metadata": {
    "collapsed": false
   },
   "outputs": [
    {
     "name": "stdout",
     "output_type": "stream",
     "text": [
      "[17  5 13 ..., 25 10 10]\n",
      "[17  5 13 ..., 25 10 10]\n",
      "0.9388521634615384\n"
     ]
    }
   ],
   "source": [
    "# training accs\n",
    "print(y_train)\n",
    "print(pred)\n",
    "print(test(pred, y_train))"
   ]
  },
  {
   "cell_type": "code",
   "execution_count": 205,
   "metadata": {
    "collapsed": false
   },
   "outputs": [
    {
     "name": "stdout",
     "output_type": "stream",
     "text": [
      "[22  7  5 ...,  8 19 11]\n",
      "[21  9  5 ...,  8 19 12]\n",
      "0.8555288461538462\n"
     ]
    }
   ],
   "source": [
    "# validation accs\n",
    "val_pred = net.predict(add_bias(X_validation))\n",
    "print(y_validation)\n",
    "print(val_pred)\n",
    "print(test(val_pred, y_validation))\n"
   ]
  },
  {
   "cell_type": "markdown",
   "metadata": {},
   "source": [
    "### Kaggle Submission: 0.85837"
   ]
  },
  {
   "cell_type": "code",
   "execution_count": 213,
   "metadata": {
    "collapsed": true
   },
   "outputs": [],
   "source": [
    "prediction = pd.DataFrame(net.predict(add_bias(X_test)), dtype=int)\n",
    "prediction.index += 1\n",
    "prediction.index.rename('Id', inplace=True)\n",
    "prediction.to_csv('outcome_letters.csv', header =['Category'])"
   ]
  },
  {
   "cell_type": "markdown",
   "metadata": {},
   "source": [
    "### Image Visualization"
   ]
  },
  {
   "cell_type": "code",
   "execution_count": 355,
   "metadata": {
    "collapsed": false
   },
   "outputs": [],
   "source": [
    "def plot_image(image, label, pred):\n",
    "    image = image.reshape(28,28)\n",
    "    plt.axis('off')\n",
    "    plt.imshow(image, cmap=plt.cm.gray_r, interpolation='nearest')\n",
    "    title = 'Label: ' + label + ', ' + 'Classified as: ' + pred\n",
    "    plt.title(title)\n",
    "    plt.show()\n",
    "    \n",
    "import string\n",
    "alphabet = {}\n",
    "num = 1\n",
    "alph = 'abcdefghijklmnopqrstuvwxyz'\n",
    "for letter in alph:\n",
    "    alphabet[num] = letter\n",
    "    num += 1\n",
    "correct = []\n",
    "incorrect = []\n",
    "for i in range(len(val_pred2)):\n",
    "    if np.isclose(val_pred2[i], y_validation[i]):\n",
    "        if len(correct) <5:\n",
    "            correct.append(i)\n",
    "    if not np.isclose(val_pred2[i], y_validation[i]):\n",
    "        if len(incorrect) <5:\n",
    "            incorrect.append(i)\n",
    "    if len(correct)== 5 and len(incorrect)==5:\n",
    "        break"
   ]
  },
  {
   "cell_type": "code",
   "execution_count": 356,
   "metadata": {
    "collapsed": false
   },
   "outputs": [
    {
     "name": "stdout",
     "output_type": "stream",
     "text": [
      "[1, 2, 3, 4, 5] [0, 15, 25, 26, 28] [21  7  5 ...,  8 19 11]\n"
     ]
    }
   ],
   "source": [
    "print(correct, incorrect, val_pred2)"
   ]
  },
  {
   "cell_type": "code",
   "execution_count": 357,
   "metadata": {
    "collapsed": false
   },
   "outputs": [
    {
     "name": "stdout",
     "output_type": "stream",
     "text": [
      "CORRECT\n"
     ]
    },
    {
     "data": {
      "image/png": "[encoded data removed]",
      "text/plain": [
       "<matplotlib.figure.Figure at 0x150bc1278>"
      ]
     },
     "metadata": {},
     "output_type": "display_data"
    },
    {
     "data": {
      "image/png": "[encoded data removed]",
      "text/plain": [
       "<matplotlib.figure.Figure at 0x1559cecc0>"
      ]
     },
     "metadata": {},
     "output_type": "display_data"
    },
    {
     "data": {
      "image/png": "[encoded data removed]",
      "text/plain": [
       "<matplotlib.figure.Figure at 0x150cefcc0>"
      ]
     },
     "metadata": {},
     "output_type": "display_data"
    },
    {
     "data": {
      "image/png": "[encoded data removed]",
      "text/plain": [
       "<matplotlib.figure.Figure at 0x150eea5c0>"
      ]
     },
     "metadata": {},
     "output_type": "display_data"
    },
    {
     "data": {
      "image/png": "[encoded data removed]",
      "text/plain": [
       "<matplotlib.figure.Figure at 0x1165f4cf8>"
      ]
     },
     "metadata": {},
     "output_type": "display_data"
    },
    {
     "name": "stdout",
     "output_type": "stream",
     "text": [
      "INCORRECT\n"
     ]
    },
    {
     "data": {
      "image/png": "[encoded data removed]",
      "text/plain": [
       "<matplotlib.figure.Figure at 0x150ba8518>"
      ]
     },
     "metadata": {},
     "output_type": "display_data"
    },
    {
     "data": {
      "image/png": "[encoded data removed]",
      "text/plain": [
       "<matplotlib.figure.Figure at 0x1537533c8>"
      ]
     },
     "metadata": {},
     "output_type": "display_data"
    },
    {
     "data": {
      "image/png": "[encoded data removed]",
      "text/plain": [
       "<matplotlib.figure.Figure at 0x1537c8f98>"
      ]
     },
     "metadata": {},
     "output_type": "display_data"
    },
    {
     "data": {
      "image/png": "[encoded data removed]",
      "text/plain": [
       "<matplotlib.figure.Figure at 0x153747470>"
      ]
     },
     "metadata": {},
     "output_type": "display_data"
    },
    {
     "data": {
      "image/png": "[encoded data removed]",
      "text/plain": [
       "<matplotlib.figure.Figure at 0x11655e630>"
      ]
     },
     "metadata": {},
     "output_type": "display_data"
    }
   ],
   "source": [
    "print('CORRECT')\n",
    "for i in correct:\n",
    "    plot_image(X_validation[i,:], alphabet[y_validation[i]], alphabet[val_pred2[i]])\n",
    "print('INCORRECT')\n",
    "for j in incorrect:\n",
    "    plot_image(X_validation[j,:], alphabet[y_validation[j]], alphabet[val_pred2[j]])"
   ]
  }
 ],
 "metadata": {
  "anaconda-cloud": {},
  "kernelspec": {
   "display_name": "Python [default]",
   "language": "python",
   "name": "python3"
  },
  "language_info": {
   "codemirror_mode": {
    "name": "ipython",
    "version": 3
   },
   "file_extension": ".py",
   "mimetype": "text/x-python",
   "name": "python",
   "nbconvert_exporter": "python",
   "pygments_lexer": "ipython3",
   "version": "3.5.2"
  }
 },
 "nbformat": 4,
 "nbformat_minor": 1
}
